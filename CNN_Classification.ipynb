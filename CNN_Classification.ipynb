{
  "nbformat": 4,
  "nbformat_minor": 0,
  "metadata": {
    "colab": {
      "name": "CNN Classification.ipynb",
      "provenance": [],
      "collapsed_sections": [],
      "mount_file_id": "130aw4r32EpB2PyubJ8SZDqGSOKccuIOM",
      "authorship_tag": "ABX9TyN53asLfUas5uc5fXpYUQOS",
      "include_colab_link": true
    },
    "kernelspec": {
      "name": "python3",
      "display_name": "Python 3"
    },
    "accelerator": "GPU"
  },
  "cells": [
    {
      "cell_type": "markdown",
      "metadata": {
        "id": "view-in-github",
        "colab_type": "text"
      },
      "source": [
        "<a href=\"https://colab.research.google.com/github/janaeshkrish/CNN_cat_and_dog/blob/master/CNN_Classification.ipynb\" target=\"_parent\"><img src=\"https://colab.research.google.com/assets/colab-badge.svg\" alt=\"Open In Colab\"/></a>"
      ]
    },
    {
      "cell_type": "code",
      "metadata": {
        "id": "9vw4MKdN-OkS",
        "colab_type": "code",
        "colab": {
          "base_uri": "https://localhost:8080/",
          "height": 35
        },
        "outputId": "ccaf1b7e-c00f-4c76-b42e-eb23f407f6e9"
      },
      "source": [
        "import tensorflow as tf\n",
        "from keras.preprocessing.image import ImageDataGenerator"
      ],
      "execution_count": null,
      "outputs": [
        {
          "output_type": "stream",
          "text": [
            "Using TensorFlow backend.\n"
          ],
          "name": "stderr"
        }
      ]
    },
    {
      "cell_type": "code",
      "metadata": {
        "id": "OVLVhDbdf-NP",
        "colab_type": "code",
        "colab": {
          "base_uri": "https://localhost:8080/",
          "height": 364
        },
        "outputId": "c23bd5fc-3236-4b4a-9a46-06fff06cae67"
      },
      "source": [
        "!nvidia-smi"
      ],
      "execution_count": null,
      "outputs": [
        {
          "output_type": "stream",
          "text": [
            "Mon Jul 27 04:25:28 2020       \n",
            "+-----------------------------------------------------------------------------+\n",
            "| NVIDIA-SMI 450.51.05    Driver Version: 418.67       CUDA Version: 10.1     |\n",
            "|-------------------------------+----------------------+----------------------+\n",
            "| GPU  Name        Persistence-M| Bus-Id        Disp.A | Volatile Uncorr. ECC |\n",
            "| Fan  Temp  Perf  Pwr:Usage/Cap|         Memory-Usage | GPU-Util  Compute M. |\n",
            "|                               |                      |               MIG M. |\n",
            "|===============================+======================+======================|\n",
            "|   0  Tesla K80           Off  | 00000000:00:04.0 Off |                    0 |\n",
            "| N/A   70C    P8    34W / 149W |      0MiB / 11441MiB |      0%      Default |\n",
            "|                               |                      |                 ERR! |\n",
            "+-------------------------------+----------------------+----------------------+\n",
            "                                                                               \n",
            "+-----------------------------------------------------------------------------+\n",
            "| Processes:                                                                  |\n",
            "|  GPU   GI   CI        PID   Type   Process name                  GPU Memory |\n",
            "|        ID   ID                                                   Usage      |\n",
            "|=============================================================================|\n",
            "|  No running processes found                                                 |\n",
            "+-----------------------------------------------------------------------------+\n"
          ],
          "name": "stdout"
        }
      ]
    },
    {
      "cell_type": "code",
      "metadata": {
        "id": "KlAvsmCKByH2",
        "colab_type": "code",
        "colab": {
          "base_uri": "https://localhost:8080/",
          "height": 35
        },
        "outputId": "96f670fb-3e1e-46a0-ce01-adcc412735a5"
      },
      "source": [
        "#data preprocessing training set\n",
        "train_datagen = ImageDataGenerator(\n",
        "    rescale = 1./255,\n",
        "    shear_range = 0.2,\n",
        "    zoom_range = 0.2,\n",
        "    horizontal_flip = True\n",
        ")\n",
        "training_set = train_datagen.flow_from_directory(\n",
        "    \"/content/drive/My Drive/dataset/training_set\",\n",
        "    target_size = (64,64),\n",
        "    batch_size = 32,\n",
        "    class_mode = 'binary'\n",
        ")"
      ],
      "execution_count": null,
      "outputs": [
        {
          "output_type": "stream",
          "text": [
            "Found 8000 images belonging to 2 classes.\n"
          ],
          "name": "stdout"
        }
      ]
    },
    {
      "cell_type": "code",
      "metadata": {
        "id": "o_xcP9fdCrIj",
        "colab_type": "code",
        "colab": {
          "base_uri": "https://localhost:8080/",
          "height": 35
        },
        "outputId": "65c8585a-aae7-4eae-b476-6f55e2055df9"
      },
      "source": [
        "#data preprocessing test set\n",
        "test_datagen = ImageDataGenerator(\n",
        "    rescale = 1./255\n",
        ")\n",
        "test_set = test_datagen.flow_from_directory(\n",
        "    \"/content/drive/My Drive/dataset/test_set\",\n",
        "    target_size = (64,64),\n",
        "    batch_size = 32,\n",
        "    class_mode = 'binary'\n",
        ")"
      ],
      "execution_count": null,
      "outputs": [
        {
          "output_type": "stream",
          "text": [
            "Found 2000 images belonging to 2 classes.\n"
          ],
          "name": "stdout"
        }
      ]
    },
    {
      "cell_type": "code",
      "metadata": {
        "id": "uRb3lcWcGRQv",
        "colab_type": "code",
        "colab": {}
      },
      "source": [
        "#CNN layer\n",
        "cnn = tf.keras.models.Sequential()"
      ],
      "execution_count": null,
      "outputs": []
    },
    {
      "cell_type": "code",
      "metadata": {
        "id": "07i0prJlHMIA",
        "colab_type": "code",
        "colab": {}
      },
      "source": [
        "#first layer\n",
        "cnn.add(tf.keras.layers.Conv2D(filters=32,kernel_size=3,activation='relu',input_shape = [64,64,3]))"
      ],
      "execution_count": null,
      "outputs": []
    },
    {
      "cell_type": "code",
      "metadata": {
        "id": "yduI8nOVI4m3",
        "colab_type": "code",
        "colab": {}
      },
      "source": [
        "#secound layer\n",
        "cnn.add(tf.keras.layers.MaxPool2D(pool_size=2,strides =2,padding ='valid'))"
      ],
      "execution_count": null,
      "outputs": []
    },
    {
      "cell_type": "code",
      "metadata": {
        "id": "EDHECb6CJOct",
        "colab_type": "code",
        "colab": {}
      },
      "source": [
        "#third layer \n",
        "cnn.add(tf.keras.layers.Conv2D(filters=32,kernel_size=3,activation='relu'))"
      ],
      "execution_count": null,
      "outputs": []
    },
    {
      "cell_type": "code",
      "metadata": {
        "id": "x2EMHlgEJtfF",
        "colab_type": "code",
        "colab": {}
      },
      "source": [
        "#fourth layer\n",
        "cnn.add(tf.keras.layers.MaxPool2D(pool_size=2,strides =2,padding ='valid'))"
      ],
      "execution_count": null,
      "outputs": []
    },
    {
      "cell_type": "code",
      "metadata": {
        "id": "jUQf-F8QJvyt",
        "colab_type": "code",
        "colab": {}
      },
      "source": [
        "#fifth layer\n",
        "cnn.add(tf.keras.layers.Flatten())"
      ],
      "execution_count": null,
      "outputs": []
    },
    {
      "cell_type": "code",
      "metadata": {
        "id": "YFbRvfdcJ14G",
        "colab_type": "code",
        "colab": {}
      },
      "source": [
        "#fully connected layer\n",
        "cnn.add(tf.keras.layers.Dense(units=128, activation='relu'))"
      ],
      "execution_count": null,
      "outputs": []
    },
    {
      "cell_type": "code",
      "metadata": {
        "id": "Pe70cuQ-KE1k",
        "colab_type": "code",
        "colab": {}
      },
      "source": [
        "#output layers\n",
        "cnn.add(tf.keras.layers.Dense(units=1, activation='sigmoid'))"
      ],
      "execution_count": null,
      "outputs": []
    },
    {
      "cell_type": "code",
      "metadata": {
        "id": "ae2ZecoeKJWh",
        "colab_type": "code",
        "colab": {}
      },
      "source": [
        "#compilation of the models\n",
        "cnn.compile(optimizer='adam',loss='binary_crossentropy',metrics=['accuracy'])"
      ],
      "execution_count": null,
      "outputs": []
    },
    {
      "cell_type": "code",
      "metadata": {
        "id": "ajPbjnwtKv_g",
        "colab_type": "code",
        "colab": {}
      },
      "source": [
        "cnn.fit(x = training_set, validation_data = test_set, epochs = 10)"
      ],
      "execution_count": null,
      "outputs": []
    },
    {
      "cell_type": "code",
      "metadata": {
        "id": "ABDa6KsIK2bW",
        "colab_type": "code",
        "colab": {}
      },
      "source": [
        "#prediction\n",
        "import numpy as np\n",
        "import keras.preprocessing import image\n",
        "test = image.load_img(\"/content/drive/My Drive/dataset/single_prediction/cat_or_dog_1.jpg\",target_size =(64,64))\n",
        "#converting PIL to arrray format\n",
        "test = image.img_to_array(test)\n",
        "#adding image to the batch in first dimention\n",
        "test = np.expand_dims(test, axis = 0)\n",
        "result = cnn.predict(test)\n",
        "#returns which is one and zero ie wether cat is 0 or dog is1\n",
        "training_set.class_indices\n",
        "if result[0][0] == 1:\n",
        "  prediction = 'dog'\n",
        "else:\n",
        "  prediction = 'cat'"
      ],
      "execution_count": null,
      "outputs": []
    },
    {
      "cell_type": "code",
      "metadata": {
        "id": "_GpC5IxfNhEu",
        "colab_type": "code",
        "colab": {}
      },
      "source": [
        "print(prediction)"
      ],
      "execution_count": null,
      "outputs": []
    },
    {
      "cell_type": "code",
      "metadata": {
        "id": "DH8kHw1nHI2O",
        "colab_type": "code",
        "colab": {}
      },
      "source": [
        ""
      ],
      "execution_count": null,
      "outputs": []
    }
  ]
}